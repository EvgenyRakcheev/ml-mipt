{
 "cells": [
  {
   "cell_type": "markdown",
   "metadata": {},
   "source": [
    "# № 4.1"
   ]
  },
  {
   "cell_type": "markdown",
   "metadata": {},
   "source": [
    "### Априорные плотности совпадают, поэтому максимизируем следующую условную вероятность:\n",
    "### $P(X|y) = \\prod\\limits_{k = 1}^{n}\\frac{1}{\\sqrt{2\\pi{\\sigma}^2}} \\exp{\\frac{-(x^{(k) - \\mu_{yk}})^2}{ 2\\sigma^2}}$\n",
    "### Откуда видно, что произведение максимально, когда минимальна сумма\n",
    "### $\\sum\\limits_{k = 1}^{n}(x^{(k) - \\mu_{yk}})^2$\n",
    "### то есть $argmax {P(X|y)}$ - ближайшее значение класса к $\\mu_{y}$"
   ]
  },
  {
   "cell_type": "markdown",
   "metadata": {},
   "source": [
    "# № 4.2"
   ]
  },
  {
   "cell_type": "markdown",
   "metadata": {},
   "source": [
    "### Площадь под кривой S равна сумме площадей треугольника и площади трапеции:\n",
    "### $\\frac{1}{2}FPR\\cdot{TPR} + \\frac{1}{2}(1 - FPR)(TPR + 1)$, где FPR, TPR - координаты точки излома\n",
    "### Посчитаем матожидание S, обозначив $N_1 и N_0$ как число элементов первого и второго класса соответственно\n",
    "### $E(FPR) = \\frac{E(FP)}{N_0} = \\frac{pN_0}{N_0} = p$\n",
    "### $E(TPR) = \\frac{E(TP)}{N_1} = \\frac{pN_1}{N_1} = p$\n",
    "### Итого $E(S) = \\frac{1}{2}(p^2 - p^2 + 1) = \\frac{1}{2}$"
   ]
  },
  {
   "cell_type": "markdown",
   "metadata": {},
   "source": [
    "# № 4.3"
   ]
  },
  {
   "cell_type": "markdown",
   "metadata": {},
   "source": [
    "### Оценим вероятность, с которой ошибается метод ближайшего соседа:\n",
    "### $E_n = P(1|x)P(0|x_{neig}) + P(0|x)P(1|x_{neig}) = 2P(1|x)P(0|x_{neig})$, так как в предельном переходе вероятности равны.\n",
    "### Итого $E_n = 2\\cdot{E_B} - 2\\cdot{E_B}^2 \\le 2\\cdot{E_B}$"
   ]
  },
  {
   "cell_type": "code",
   "execution_count": null,
   "metadata": {
    "collapsed": true
   },
   "outputs": [],
   "source": []
  }
 ],
 "metadata": {
  "kernelspec": {
   "display_name": "Python 3",
   "language": "python",
   "name": "python3"
  },
  "language_info": {
   "codemirror_mode": {
    "name": "ipython",
    "version": 3
   },
   "file_extension": ".py",
   "mimetype": "text/x-python",
   "name": "python",
   "nbconvert_exporter": "python",
   "pygments_lexer": "ipython3",
   "version": "3.5.3"
  }
 },
 "nbformat": 4,
 "nbformat_minor": 0
}
