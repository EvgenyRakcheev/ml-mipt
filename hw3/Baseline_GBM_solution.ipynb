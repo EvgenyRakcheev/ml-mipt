{
 "cells": [
  {
   "cell_type": "code",
   "execution_count": 1,
   "metadata": {
    "collapsed": false
   },
   "outputs": [
    {
     "name": "stdout",
     "output_type": "stream",
     "text": [
      "Populating the interactive namespace from numpy and matplotlib\n"
     ]
    },
    {
     "name": "stderr",
     "output_type": "stream",
     "text": [
      "/home/evgeny/anaconda3/lib/python3.5/site-packages/sklearn/cross_validation.py:44: DeprecationWarning: This module was deprecated in version 0.18 in favor of the model_selection module into which all the refactored classes and functions are moved. Also note that the interface of the new CV iterators are different from that of this module. This module will be removed in 0.20.\n",
      "  \"This module will be removed in 0.20.\", DeprecationWarning)\n"
     ]
    }
   ],
   "source": [
    "from sklearn.tree import DecisionTreeRegressor\n",
    "from sklearn.linear_model import LinearRegression\n",
    "from sklearn.metrics import mean_squared_error\n",
    "from sklearn.base import BaseEstimator\n",
    "import numpy as np\n",
    "import math\n",
    "import matplotlib.pyplot as plt\n",
    "from scipy import optimize\n",
    "from sklearn import datasets, cross_validation, metrics, neighbors\n",
    "from matplotlib.colors import ListedColormap\n",
    "from pandas import DataFrame\n",
    "%pylab inline"
   ]
  },
  {
   "cell_type": "code",
   "execution_count": 2,
   "metadata": {
    "collapsed": false
   },
   "outputs": [],
   "source": [
    "import pandas as pd\n",
    "import xgboost\n",
    "\n",
    "\n",
    "train = pd.read_csv(\"train.tsv\")\n",
    "test = pd.read_csv(\"test.tsv\")\n",
    "sample_submission = pd.read_csv(\"sample_submission.tsv\")"
   ]
  },
  {
   "cell_type": "code",
   "execution_count": 3,
   "metadata": {
    "collapsed": false
   },
   "outputs": [],
   "source": [
    "train_items = list(train['item_id'])\n",
    "test_items = list(test['item_id'])"
   ]
  },
  {
   "cell_type": "code",
   "execution_count": 4,
   "metadata": {
    "collapsed": false
   },
   "outputs": [],
   "source": [
    "dif_train_items = dict(zip(train_items, train_items)).values()\n",
    "dif_test_items = dict(zip(test_items, test_items)).values()\n",
    "dif_train_items = list(dif_train_items)\n",
    "dif_test_items = list(dif_test_items)"
   ]
  },
  {
   "cell_type": "code",
   "execution_count": 5,
   "metadata": {
    "collapsed": false
   },
   "outputs": [
    {
     "name": "stdout",
     "output_type": "stream",
     "text": [
      "286\n",
      "227\n"
     ]
    }
   ],
   "source": [
    "print(len(dif_train_items))\n",
    "print(len(dif_test_items))"
   ]
  },
  {
   "cell_type": "code",
   "execution_count": 6,
   "metadata": {
    "collapsed": false
   },
   "outputs": [
    {
     "name": "stdout",
     "output_type": "stream",
     "text": [
      "1 20442113\n",
      "2 20442114\n",
      "5 20442118\n",
      "6 20442119\n",
      "27 20438581\n",
      "46 20442193\n",
      "51 20442207\n",
      "52 20442210\n",
      "55 20442214\n",
      "57 20442216\n",
      "58 20442215\n",
      "59 20442221\n",
      "67 20438756\n",
      "69 20448549\n",
      "70 20443281\n",
      "81 20439191\n",
      "82 20439193\n",
      "87 20440223\n",
      "88 20440224\n",
      "92 20438692\n",
      "94 20440742\n",
      "95 20438697\n",
      "105 20427444\n",
      "114 20437695\n",
      "116 20438731\n",
      "117 20440261\n",
      "118 20440262\n",
      "120 20438732\n",
      "128 20441303\n",
      "136 20438823\n",
      "137 20433396\n",
      "149 20442092\n",
      "158 20441371\n",
      "167 20443945\n",
      "181 20427072\n",
      "188 20439383\n",
      "189 20439384\n",
      "190 20439385\n",
      "191 20439386\n",
      "200 20441575\n",
      "203 20441455\n",
      "204 20441456\n",
      "205 20441457\n",
      "206 20441460\n",
      "214 20441481\n",
      "215 20441482\n",
      "217 20438924\n",
      "231 20447920\n",
      "241 20439113\n",
      "248 20438091\n",
      "251 20438689\n",
      "263 20440031\n",
      "267 20441576\n",
      "269 20442091\n",
      "272 20441582\n",
      "273 20441583\n",
      "274 20441584\n",
      "282 20448432\n",
      "283 20443174\n"
     ]
    }
   ],
   "source": [
    "for i in range(len(dif_train_items)):\n",
    "    if (dif_train_items[i] not in dif_test_items):\n",
    "        print(i, dif_train_items[i])"
   ]
  },
  {
   "cell_type": "code",
   "execution_count": 7,
   "metadata": {
    "collapsed": false
   },
   "outputs": [],
   "source": [
    "def symmetric_mean_absolute_percentage_error(y_true, y_pred): \n",
    "    return np.mean([(np.abs((y_true[i] - y_pred[i])) / (np.abs(y_true[i]) + np.abs(y_pred[i]))) \n",
    "                    for i in range(len(list(y_true)))]) * 200"
   ]
  },
  {
   "cell_type": "code",
   "execution_count": 8,
   "metadata": {
    "collapsed": false
   },
   "outputs": [
    {
     "name": "stdout",
     "output_type": "stream",
     "text": [
      "72457 72457 2016\n"
     ]
    }
   ],
   "source": [
    "frac = 1 # fraction of learning examples used for model fitting\n",
    "\n",
    "# sample the train set if your don't want to deel with all examples\n",
    "train = train.sample(frac=frac, random_state=42)\n",
    "\n",
    "X = train.drop(['Num','y'], axis=1)\n",
    "y = train['y']\n",
    "print (len(X), len(y), len(test))"
   ]
  },
  {
   "cell_type": "code",
   "execution_count": 9,
   "metadata": {
    "collapsed": true
   },
   "outputs": [],
   "source": [
    "X_train, X_test, y_train, y_test = cross_validation.train_test_split(\n",
    "    X, y, test_size=0.20, random_state=1\n",
    ")"
   ]
  },
  {
   "cell_type": "code",
   "execution_count": 11,
   "metadata": {
    "collapsed": true
   },
   "outputs": [],
   "source": [
    "X_train = X_train.values\n",
    "X_test = X_test.values\n",
    "y_train = y_train.values\n",
    "y_test = y_test.values"
   ]
  },
  {
   "cell_type": "code",
   "execution_count": 16,
   "metadata": {
    "collapsed": false
   },
   "outputs": [
    {
     "name": "stdout",
     "output_type": "stream",
     "text": [
      "0.2 21.5131333168\n",
      "0.4 21.4406841647\n",
      "0.5 21.0727825774\n",
      "1 21.069492806\n",
      "3 20.7081438044\n",
      "6 20.7389318521\n",
      "10 20.8890405242\n",
      "15 21.3909160053\n",
      "16 20.9945071921\n",
      "17 21.4348566156\n"
     ]
    }
   ],
   "source": [
    "#%%time\n",
    "from sklearn.ensemble import GradientBoostingRegressor\n",
    "#model = GradientBoostingRegressor(n_estimators=100, max_depth=5, random_state=43)\n",
    "model = xgboost.XGBRegressor(max_depth=20, n_estimators=78, learning_rate=1/12, reg_alpha=16,\n",
    "                                 reg_lambda=3, min_child_weight=6)\n",
    "model.fit(X_train, y_train, eval_metric='mae')\n",
    "\n",
    "#preds = model.predict(test.drop(['Num'], axis=1))\n",
    "preds = model.predict(X_test)\n",
    "print(symmetric_mean_absolute_percentage_error(y_test, preds))"
   ]
  },
  {
   "cell_type": "code",
   "execution_count": 54,
   "metadata": {
    "collapsed": false
   },
   "outputs": [
    {
     "name": "stdout",
     "output_type": "stream",
     "text": [
      "14492\n",
      "2016\n"
     ]
    }
   ],
   "source": [
    "print (len(preds))\n",
    "print (len(test))"
   ]
  },
  {
   "cell_type": "code",
   "execution_count": 8,
   "metadata": {
    "collapsed": false
   },
   "outputs": [],
   "source": [
    "sample_submission['y'] = preds"
   ]
  },
  {
   "cell_type": "code",
   "execution_count": 9,
   "metadata": {
    "collapsed": false
   },
   "outputs": [
    {
     "data": {
      "text/html": [
       "<div>\n",
       "<table border=\"1\" class=\"dataframe\">\n",
       "  <thead>\n",
       "    <tr style=\"text-align: right;\">\n",
       "      <th></th>\n",
       "      <th>Num</th>\n",
       "      <th>y</th>\n",
       "    </tr>\n",
       "  </thead>\n",
       "  <tbody>\n",
       "    <tr>\n",
       "      <th>0</th>\n",
       "      <td>348622</td>\n",
       "      <td>2304.652344</td>\n",
       "    </tr>\n",
       "    <tr>\n",
       "      <th>1</th>\n",
       "      <td>348623</td>\n",
       "      <td>31646.498047</td>\n",
       "    </tr>\n",
       "    <tr>\n",
       "      <th>2</th>\n",
       "      <td>348624</td>\n",
       "      <td>320020.875000</td>\n",
       "    </tr>\n",
       "    <tr>\n",
       "      <th>3</th>\n",
       "      <td>348625</td>\n",
       "      <td>33232.246094</td>\n",
       "    </tr>\n",
       "    <tr>\n",
       "      <th>4</th>\n",
       "      <td>348626</td>\n",
       "      <td>28.298035</td>\n",
       "    </tr>\n",
       "  </tbody>\n",
       "</table>\n",
       "</div>"
      ],
      "text/plain": [
       "      Num              y\n",
       "0  348622    2304.652344\n",
       "1  348623   31646.498047\n",
       "2  348624  320020.875000\n",
       "3  348625   33232.246094\n",
       "4  348626      28.298035"
      ]
     },
     "execution_count": 9,
     "metadata": {},
     "output_type": "execute_result"
    }
   ],
   "source": [
    "sample_submission.head(5)"
   ]
  },
  {
   "cell_type": "code",
   "execution_count": 10,
   "metadata": {
    "collapsed": false
   },
   "outputs": [
    {
     "name": "stdout",
     "output_type": "stream",
     "text": [
      "        Num         y\n",
      "230  349523 -10.53048\n"
     ]
    }
   ],
   "source": [
    "# In GBM you can get some negative predictions:\n",
    "print (sample_submission[sample_submission['y'] < 0])"
   ]
  },
  {
   "cell_type": "code",
   "execution_count": 11,
   "metadata": {
    "collapsed": true
   },
   "outputs": [],
   "source": [
    "sample_submission['y'] = sample_submission['y'].map(lambda x: x if x > 0 else 0.0)"
   ]
  },
  {
   "cell_type": "code",
   "execution_count": 12,
   "metadata": {
    "collapsed": true
   },
   "outputs": [],
   "source": [
    "sample_submission.to_csv(\"baseline_submission.tsv\", sep=',', index=False)"
   ]
  }
 ],
 "metadata": {
  "kernelspec": {
   "display_name": "Python 3",
   "language": "python",
   "name": "python3"
  },
  "language_info": {
   "codemirror_mode": {
    "name": "ipython",
    "version": 3
   },
   "file_extension": ".py",
   "mimetype": "text/x-python",
   "name": "python",
   "nbconvert_exporter": "python",
   "pygments_lexer": "ipython3",
   "version": "3.5.3"
  }
 },
 "nbformat": 4,
 "nbformat_minor": 0
}
