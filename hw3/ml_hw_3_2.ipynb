{
 "cells": [
  {
   "cell_type": "markdown",
   "metadata": {},
   "source": [
    "# №1"
   ]
  },
  {
   "cell_type": "markdown",
   "metadata": {},
   "source": [
    "## Мы знаем, что:\n",
    "## $E(a_X(x) - y)^2 = EE((a_X(x) - y)^2|x)$\n",
    "## По свойствам УМО:\n",
    "## $E((a_X(x) - y)^2|x) = E((a_X(x) - f(x) - \\epsilon)^2|x) = $\n",
    "## $=(a_X(x) - f(x))^2 - 2(a_X(x) - f(x))E(\\epsilon|x) + \\sigma^2 = $\n",
    "## $=E((a_X(x) - f(x))^2|x) + \\sigma^2 = $\n",
    "## $=E((a_X(x) - Ea_X(x) - (-Ea_X(x) + f(x)))^2|x) + \\sigma^2 = $\n",
    "## $=E((a_X(x) - Ea_X(x))^2 + (f(x) - Ea_X(x))^2 - 2(a_X(x) - Ea_X(x))(f(x) - Ea_X(x))|x) + \\sigma^2=$\n",
    "## $=(a_X(x) - Ea_X(x))^2 + (f(x) - Ea_X(x))^2 + \\sigma^2$\n",
    "## $E(a_X(x) - y)^2 = E(a_X(x) - Ea_X(x))^2 + E(E(y|x) - Ea_X(x))^2 + E(y - E(y|x))^2$, так как $f(x) = E(y|x)$, $\\sigma^2 = E(y - E(y|x))^2$\n",
    "## Ч.т.д."
   ]
  },
  {
   "cell_type": "markdown",
   "metadata": {},
   "source": [
    "# №2"
   ]
  },
  {
   "cell_type": "markdown",
   "metadata": {},
   "source": [
    "## $E_{xy}E_{x^l}(a(x)) = \\frac{1}{M}E_{xy}E_{x^l}(\\sum\\limits_{m = 1}^Ma_m(x)) = E_{xy}E_{x^l}(a_1(x))$, значит bias не меняется\n",
    "## $E_{xy}E_{x^l}(a(x)^2) = E_{xy}E_{x^l}((\\frac{1}{M}\\sum\\limits_{m = 1}^Ma_m(x))^2) = \\frac{1}{M^2}E_{xy}E_{x^l}(\\sum\\limits_{i = j}a_ia_j + \\sum\\limits_{i \\ne j}a_ia_j) = \\frac{1}{M}Var(a_1) + \\frac{1}{M^2}\\sum\\limits_{i \\ne j}cov(a_i(x), a_j(x))$, значит, чем меньше скоррелированы элементы, тем меньше Varience"
   ]
  },
  {
   "cell_type": "markdown",
   "metadata": {},
   "source": [
    "# №3"
   ]
  },
  {
   "cell_type": "markdown",
   "metadata": {},
   "source": [
    "### Необходимо найти дисперсию среднего М одинаково распределенных независимых величин. Распишем:\n",
    "### $D\\frac{1}{M}\\sum\\limits_{i = 1}^{M}{X_i} = \\frac{1}{M^2}E(\\sum\\limits_{i = 1}^{M}{X_i} - E\\sum\\limits_{i = 1}^{M}{X_i})^2 = \\frac{\\sigma^2}{M} + \\frac{1}{M^2}\\sum\\limits_{i \\ne j}{E(X_i - EX_i)(X_j - EX_j)} = \\rho\\sigma^2 + (1 - \\rho)\\frac{\\sigma^2}{M}$"
   ]
  }
 ],
 "metadata": {
  "kernelspec": {
   "display_name": "Python 3",
   "language": "python",
   "name": "python3"
  },
  "language_info": {
   "codemirror_mode": {
    "name": "ipython",
    "version": 3
   },
   "file_extension": ".py",
   "mimetype": "text/x-python",
   "name": "python",
   "nbconvert_exporter": "python",
   "pygments_lexer": "ipython3",
   "version": "3.5.3"
  }
 },
 "nbformat": 4,
 "nbformat_minor": 0
}
