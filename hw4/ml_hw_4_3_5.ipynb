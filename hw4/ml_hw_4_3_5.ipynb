{
 "cells": [
  {
   "cell_type": "markdown",
   "metadata": {},
   "source": [
    "### №5\n",
    "### Задача с $l_1$ ограничением:\n",
    "### $\\sum_{i=1}^nL(x_i, w, y_i)\\to\\min\\limits_w$\n",
    "### $\\sum_{j=1}^m|w_j| \\le \\alpha$\n",
    "### Так как\n",
    "$\\sum_{i=1}^nL(x_i, w, y_i) + \\lambda(\\sum_{j=1}^m|w_j| - \\alpha) = \n",
    "\\sum_{i=1}^nL(x_i, w, y_i) + \\lambda\\sum_{j=1}^m|w_j| + const$,\n",
    "### то по теореме Куна-Такера\n",
    "### $\\sum_{i=1}^nL(x_i, w, y_i) + \\lambda\\sum_{j=1}^m|w_j| \\to\\min\\limits_w$\n",
    "### $\\lambda \\ge 0$\n",
    "### $\\lambda = 0$ или $\\sum_{j=1}^m|w_j| = \\alpha$\n",
    "### для некоторого $\\lambda$\n",
    "### ч.т.д"
   ]
  },
  {
   "cell_type": "code",
   "execution_count": null,
   "metadata": {
    "collapsed": true
   },
   "outputs": [],
   "source": []
  }
 ],
 "metadata": {
  "kernelspec": {
   "display_name": "Python 3",
   "language": "python",
   "name": "python3"
  },
  "language_info": {
   "codemirror_mode": {
    "name": "ipython",
    "version": 3
   },
   "file_extension": ".py",
   "mimetype": "text/x-python",
   "name": "python",
   "nbconvert_exporter": "python",
   "pygments_lexer": "ipython3",
   "version": "3.5.3"
  }
 },
 "nbformat": 4,
 "nbformat_minor": 0
}
