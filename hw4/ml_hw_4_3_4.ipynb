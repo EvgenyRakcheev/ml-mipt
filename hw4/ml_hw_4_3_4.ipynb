{
 "cells": [
  {
   "cell_type": "markdown",
   "metadata": {},
   "source": [
    "### №4\n",
    "### Используем квадратичное ядро:\n",
    "$K(a, b) = (a_1\\cdot{b_1} + a_2\\cdot{b_2})^2$\n",
    "### Это эквивалентно переходу в другое пространство\n",
    "$(a_1, a_2) \\to (a_1^2, \\sqrt{2}a_1\\cdot{a_2}, a_2^2)$\n",
    "### Плоскость в новом пространстве:\n",
    "$(a_1^2, \\sqrt{2}a_1\\cdot{a_2}, a_2^2)\\begin{pmatrix}w_1\\\\w_2\\\\w_3\\end{pmatrix} + w_0 = w_1a_1^2 + w_2\\sqrt{2}\\cdot{a_1}\\cdot{a_2} + w_3a_2^2 + w_0 = 0$\n",
    "### При $w = (1, 0, 2)$ и $w_0 = -3$ поподание на эту плоскость в новом пространстве эквивалентно попаданию на  $a_1^2 + 2a_2^2 = 3$ в старом. \n",
    "### ч.т.д"
   ]
  },
  {
   "cell_type": "code",
   "execution_count": null,
   "metadata": {
    "collapsed": true
   },
   "outputs": [],
   "source": []
  }
 ],
 "metadata": {
  "kernelspec": {
   "display_name": "Python 3",
   "language": "python",
   "name": "python3"
  },
  "language_info": {
   "codemirror_mode": {
    "name": "ipython",
    "version": 3
   },
   "file_extension": ".py",
   "mimetype": "text/x-python",
   "name": "python",
   "nbconvert_exporter": "python",
   "pygments_lexer": "ipython3",
   "version": "3.5.3"
  }
 },
 "nbformat": 4,
 "nbformat_minor": 0
}
