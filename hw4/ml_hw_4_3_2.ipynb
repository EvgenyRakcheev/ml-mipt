{
 "cells": [
  {
   "cell_type": "markdown",
   "metadata": {},
   "source": [
    "### №2\n",
    "### При выборе $w$ методом максимального правдоподобия, получим оптимизационную задачу:\n",
    "$\\sum\\limits_{i}^n\\ln{p(x_i, y_i|w)q_{\\alpha}(w)} \\to\\max\\limits_w$\n",
    "### При  $L(f(x_i), y_i) \\sim -\\ln{p(x_i, y_i|w)}$, а регуляризационное слагаемое $\\sim-\\ln{q_{\\alpha}(w)}$\n",
    "### Это эквивалентно следующему:\n",
    "$\\sum\\limits_{i=0}^nL(f(x_i), y_i) + \\alpha Reg(w)\\to\\min\\limits_w$\n",
    "### Для $l1$-регуляризатора\n",
    "$Reg(w) = \\sum\\limits_{j = 0}^m|w_j|$ $w$ имеет распределение Лапласа:\n",
    "$q_{\\alpha}(w)=\\left(\\frac{\\alpha}{2}\\right)^m\\exp(-\\alpha Reg(w))$\n",
    "### Для $l2$-регуляризатора\n",
    "$Reg(w) = \\sum\\limits_{j=0}^mw_j^2$ нормальное распределение:\n",
    "$q_{\\sigma^2}(w)=\\frac{1}{(2\\pi\\sigma^2)^{n/2}}\\exp(-\\frac{Reg(w)}{2\\sigma^2})$"
   ]
  }
 ],
 "metadata": {
  "kernelspec": {
   "display_name": "Python 3",
   "language": "python",
   "name": "python3"
  },
  "language_info": {
   "codemirror_mode": {
    "name": "ipython",
    "version": 3
   },
   "file_extension": ".py",
   "mimetype": "text/x-python",
   "name": "python",
   "nbconvert_exporter": "python",
   "pygments_lexer": "ipython3",
   "version": "3.5.3"
  }
 },
 "nbformat": 4,
 "nbformat_minor": 0
}
