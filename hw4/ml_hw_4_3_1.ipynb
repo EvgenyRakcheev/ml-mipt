{
 "cells": [
  {
   "cell_type": "markdown",
   "metadata": {},
   "source": [
    "### 1\n",
    "### Пусть классы $y_i = \\{-1, 1\\}$ Тогда классификатор $a(x) = sign(f(x))$, где f(x) - функция от объектов выборки."
   ]
  },
  {
   "cell_type": "markdown",
   "metadata": {},
   "source": [
    "### 2\n",
    "### Отступ $M_i = y_i\\cdot{f(x_i)}$ положительный, если класс угадали (так как знаки одинаковые). Отрицательный, если не угадали"
   ]
  },
  {
   "cell_type": "markdown",
   "metadata": {},
   "source": [
    "### 3\n",
    "### Нужно добавить признак, равный 1"
   ]
  },
  {
   "cell_type": "markdown",
   "metadata": {},
   "source": [
    "### 4\n",
    "### $Q(a, X) = \\frac{1}{n}\\sum_i{I(M_i \\le 0)}$ Лучше всего, если $Q=0$"
   ]
  },
  {
   "cell_type": "markdown",
   "metadata": {},
   "source": [
    "### 5\n",
    "### $w=0$"
   ]
  },
  {
   "cell_type": "markdown",
   "metadata": {},
   "source": [
    "### 6\n",
    "### $\\tilde{Q}(a, X) = \\frac{1}{l}\\sum_iL(M_i)$"
   ]
  },
  {
   "cell_type": "markdown",
   "metadata": {},
   "source": [
    "### 7\n",
    "### Функция потерь по-разному штрафует разные ошибки. Должна быть неотрицательной, можно сделать гладкой и невозрастющей"
   ]
  },
  {
   "cell_type": "markdown",
   "metadata": {},
   "source": [
    "### 8\n",
    "### $I(a(x_i) \\ne y_i)$"
   ]
  },
  {
   "cell_type": "markdown",
   "metadata": {},
   "source": [
    "### 9\n",
    "### Регуляризация штрафует веса. \n",
    "### $l_1-регуляризация$ для суммы модулей весов,\n",
    "### $l_2-регуляризация$ для суммы квадратов"
   ]
  },
  {
   "cell_type": "markdown",
   "metadata": {},
   "source": [
    "### 10\n",
    "### Обобщающая способность определяется каким-то функционалом качества $Q(a(X), Y)$ Регуляризатор спасает от переобучения и не дает быть значению Q большим"
   ]
  },
  {
   "cell_type": "markdown",
   "metadata": {},
   "source": [
    "### 11\n",
    "### Не выберемся из ямы и ответим этими параметрами"
   ]
  },
  {
   "cell_type": "markdown",
   "metadata": {},
   "source": [
    "### 12\n",
    "### Увеличивает риск при приближении к допустимым границам"
   ]
  },
  {
   "cell_type": "markdown",
   "metadata": {},
   "source": [
    "### 13\n",
    "### С регуляризатором, так как прибавляем неотрицательные значения"
   ]
  },
  {
   "cell_type": "markdown",
   "metadata": {},
   "source": [
    "### 14\n",
    "### Одназначно сказать нельзя. Если без регуляризации мы не переобучились, то значение функционала может быть и меньше"
   ]
  },
  {
   "cell_type": "markdown",
   "metadata": {},
   "source": [
    "### 15\n",
    "### $𝑇𝑃, 𝐹𝑃, 𝑇𝑁, 𝐹𝑁$ - true positive, false positive, true negative, false negative\n",
    "### $Accuracy: \\frac{TP + TN}{T + N}$, где T - кол-во 1 в выборке, а N - кол-во -1\n",
    "### $Precision: \\frac{TP}{TP + FP}$\n",
    "### $Recall: \\frac{TP}{P}$"
   ]
  },
  {
   "cell_type": "markdown",
   "metadata": {},
   "source": [
    "### 16\n",
    "### Метрика - площать под ROC-AUC кривой, которая строится по точкам FPR, TPR, которые в свою очередь получаются при переборе порога вероятности. Если прогнозируемая вероятность больше порога, то относим объект к классу 1, если меньше, то к -1"
   ]
  },
  {
   "cell_type": "markdown",
   "metadata": {},
   "source": [
    "### 17\n",
    "### "
   ]
  },
  {
   "cell_type": "code",
   "execution_count": null,
   "metadata": {
    "collapsed": true
   },
   "outputs": [],
   "source": []
  }
 ],
 "metadata": {
  "kernelspec": {
   "display_name": "Python 3",
   "language": "python",
   "name": "python3"
  },
  "language_info": {
   "codemirror_mode": {
    "name": "ipython",
    "version": 3
   },
   "file_extension": ".py",
   "mimetype": "text/x-python",
   "name": "python",
   "nbconvert_exporter": "python",
   "pygments_lexer": "ipython3",
   "version": "3.5.3"
  }
 },
 "nbformat": 4,
 "nbformat_minor": 0
}
