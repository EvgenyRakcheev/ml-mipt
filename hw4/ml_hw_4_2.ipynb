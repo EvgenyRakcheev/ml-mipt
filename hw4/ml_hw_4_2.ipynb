{
 "cells": [
  {
   "cell_type": "markdown",
   "metadata": {
    "collapsed": false
   },
   "source": [
    "### Краткая формулировка задачи: необходимо по слову определить к какой части речи оно относится и найти его начальную форму."
   ]
  },
  {
   "cell_type": "markdown",
   "metadata": {},
   "source": [
    "### Итоговое решение: с помощью SVM определяю к какой части речи относится слово. Далее, ищу в обучающей выборке однокоренные слова и отвечаю ответом для однокоренного слова. \n",
    "### Результат сразу получился достаточно хороший, поэтому много попыток улучшить его я не предпринимал. Все свелось к тому, что я искал, по какой части слова лучше искать однокоренное слово в обучающей выборке (для этого, конечно, нужно было заметить, что слова часто повторяются, меняется только форма, поэтому легко найти однокоренные)."
   ]
  },
  {
   "cell_type": "code",
   "execution_count": 130,
   "metadata": {
    "collapsed": false
   },
   "outputs": [
    {
     "name": "stdout",
     "output_type": "stream",
     "text": [
      "Populating the interactive namespace from numpy and matplotlib\n"
     ]
    },
    {
     "name": "stderr",
     "output_type": "stream",
     "text": [
      "WARNING: pylab import has clobbered these variables: ['f', 'test']\n",
      "`%matplotlib` prevents importing * from pylab and numpy\n"
     ]
    }
   ],
   "source": [
    "from sklearn.tree import DecisionTreeRegressor\n",
    "from sklearn.linear_model import LinearRegression, LogisticRegression, SGDClassifier, PassiveAggressiveClassifier, RandomizedLogisticRegression\n",
    "from sklearn.metrics import mean_squared_error, roc_auc_score\n",
    "import sklearn.linear_model\n",
    "from sklearn.base import BaseEstimator\n",
    "from sklearn import svm\n",
    "import numpy as np\n",
    "import math\n",
    "import matplotlib.pyplot as plt\n",
    "import collections\n",
    "from sklearn.pipeline import Pipeline, make_pipeline\n",
    "from scipy import optimize\n",
    "from sklearn import datasets, cross_validation, metrics, neighbors\n",
    "from matplotlib.colors import ListedColormap\n",
    "from pandas import DataFrame\n",
    "from sklearn.feature_extraction.text import CountVectorizer\n",
    "import pandas as pd\n",
    "%pylab inline"
   ]
  },
  {
   "cell_type": "code",
   "execution_count": 8,
   "metadata": {
    "collapsed": false
   },
   "outputs": [],
   "source": [
    "sample_submission = pd.read_csv(\"task2_lemmas_sample_submission\")\n",
    "test = pd.read_csv(\"task2_lemmas_test\")\n",
    "train_data = []\n",
    "train_target = []\n",
    "with open(\"task2_lemmas_train\") as file:\n",
    "    for line in file:\n",
    "        string = line.split(',')\n",
    "        train_data.append(string[1])\n",
    "        words = []\n",
    "        for i in range(2, len(string)):\n",
    "            cur_str = string[i].split('\\n')[0]\n",
    "            word = cur_str.split('+')\n",
    "            words.append(word)\n",
    "        train_target.append(words)\n",
    "train_data = train_data[1:]\n",
    "train_target = train_target[1:]"
   ]
  },
  {
   "cell_type": "code",
   "execution_count": 9,
   "metadata": {
    "collapsed": true
   },
   "outputs": [],
   "source": [
    "test_str = []\n",
    "with open(\"task2_lemmas_test\") as file:\n",
    "    for line in file:\n",
    "        string = line.split('\\n')[0]\n",
    "        string_2 = string.split(',')\n",
    "        test_str.append(string_2[1])\n",
    "test_str = test_str[1:]"
   ]
  },
  {
   "cell_type": "code",
   "execution_count": 10,
   "metadata": {
    "collapsed": true
   },
   "outputs": [],
   "source": [
    "train_target_for_test = []\n",
    "for i in range(len(train_target)):\n",
    "    train_target_for_test.append(train_target[i][0][1])"
   ]
  },
  {
   "cell_type": "code",
   "execution_count": 11,
   "metadata": {
    "collapsed": false
   },
   "outputs": [],
   "source": [
    "ind_of_many_ans = []\n",
    "for i in range(len(train_target)):\n",
    "    if len(train_target[i]) > 1:\n",
    "        ind_of_many_ans.append(i)"
   ]
  },
  {
   "cell_type": "code",
   "execution_count": 12,
   "metadata": {
    "collapsed": false
   },
   "outputs": [],
   "source": [
    "ind_of_one_ans = []\n",
    "for i in range(len(train_target)):\n",
    "    if i not in ind_of_many_ans:\n",
    "        ind_of_one_ans.append(i)"
   ]
  },
  {
   "cell_type": "code",
   "execution_count": 13,
   "metadata": {
    "collapsed": true
   },
   "outputs": [],
   "source": [
    "train_data_one = []\n",
    "train_target_one_word = []\n",
    "train_target_one_class = []\n",
    "for i in ind_of_one_ans:\n",
    "    train_data_one.append(train_data[i])\n",
    "    train_target_one_word.append(train_target[i][0][0])\n",
    "    train_target_one_class.append(train_target[i][0][1])"
   ]
  },
  {
   "cell_type": "code",
   "execution_count": 14,
   "metadata": {
    "collapsed": true
   },
   "outputs": [],
   "source": [
    "A = 0\n",
    "N = 0\n",
    "V = 0\n",
    "for i in range(len(train_target_one_class)):\n",
    "    if train_target_one_class[i] == 'A':\n",
    "        A += 1\n",
    "    if train_target_one_class[i] == 'V':\n",
    "        V += 1\n",
    "    if train_target_one_class[i] == 'N':\n",
    "        N += 1"
   ]
  },
  {
   "cell_type": "code",
   "execution_count": 15,
   "metadata": {
    "collapsed": true
   },
   "outputs": [],
   "source": [
    "train_V = []\n",
    "train_N = []\n",
    "train_A = []\n",
    "train_target_V = []\n",
    "train_target_N = []\n",
    "train_target_A = []\n",
    "for i in range(len(train_data)):\n",
    "    if train_target_for_test[i] == 'V':\n",
    "        train_V.append(train_data[i])\n",
    "        train_target_V.append(train_target[i][0][0])\n",
    "    if train_target_for_test[i] == 'N':\n",
    "        train_N.append(train_data[i])\n",
    "        train_target_N.append(train_target[i][0][0])\n",
    "    if train_target_for_test[i] == 'A':\n",
    "        train_A.append(train_data[i])\n",
    "        train_target_A.append(train_target[i][0][0])"
   ]
  },
  {
   "cell_type": "code",
   "execution_count": 16,
   "metadata": {
    "collapsed": false
   },
   "outputs": [
    {
     "name": "stdout",
     "output_type": "stream",
     "text": [
      "A = 12316 N = 8963 V = 95198\n"
     ]
    }
   ],
   "source": [
    "print(\"A =\", A, \"N =\", N, \"V =\", V)"
   ]
  },
  {
   "cell_type": "markdown",
   "metadata": {},
   "source": [
    "## Кросс-валидация и всякие попытки улучшить результат:\n",
    "### (Итоговое решение ниже)"
   ]
  },
  {
   "cell_type": "code",
   "execution_count": 18,
   "metadata": {
    "collapsed": false
   },
   "outputs": [
    {
     "name": "stdout",
     "output_type": "stream",
     "text": [
      "model 0.980150629337\n"
     ]
    }
   ],
   "source": [
    "count_vectorizer = CountVectorizer(analyzer='char_wb', ngram_range=(4, 6), lowercase=True, decode_error='ignore')\n",
    "count_vectorizer.fit(train_data_one)\n",
    "sparse_feature_matrix = count_vectorizer.transform(train_data_one)\n",
    "model = svm.LinearSVC()\n",
    "arr_model = cross_validation.cross_val_score(model, sparse_feature_matrix, \n",
    "                                                                 train_target_one_class, cv=5, scoring='accuracy')\n",
    "print(\"model\", np.mean(arr_model))"
   ]
  },
  {
   "cell_type": "code",
   "execution_count": 19,
   "metadata": {
    "collapsed": true
   },
   "outputs": [],
   "source": [
    "X_train, X_test, y_train, y_test = cross_validation.train_test_split(\n",
    "   [train_data[i] for i in ind_of_one_ans], [train_target[i] for i in ind_of_one_ans], test_size=0.2, random_state=1)"
   ]
  },
  {
   "cell_type": "code",
   "execution_count": 20,
   "metadata": {
    "collapsed": false
   },
   "outputs": [],
   "source": [
    "comp_y_test = []\n",
    "for i in range(len(y_test)):\n",
    "    comp_y_test.append(np.array(y_test)[:,0,0][i] + \"+\" + np.array(y_test)[:,0,1][i])"
   ]
  },
  {
   "cell_type": "code",
   "execution_count": 21,
   "metadata": {
    "collapsed": false
   },
   "outputs": [],
   "source": [
    "y_train_word = []\n",
    "y_test_word = []\n",
    "y_train_class = []\n",
    "y_test_class = []\n",
    "for i in range(len(y_train)):\n",
    "    y_train_word.append(y_train[i][0][0])\n",
    "    y_train_class.append(y_train[i][0][1])\n",
    "for i in range(len(y_test)):\n",
    "    y_test_word.append(y_test[i][0][0])\n",
    "    y_test_class.append(y_test[i][0][1])"
   ]
  },
  {
   "cell_type": "code",
   "execution_count": 22,
   "metadata": {
    "collapsed": true
   },
   "outputs": [],
   "source": [
    "X_train_N = []\n",
    "X_train_V = []\n",
    "X_train_A = []\n",
    "X_test_N = []\n",
    "X_test_V = []\n",
    "X_test_A = []\n",
    "y_train_word_N = []\n",
    "y_train_word_V = []\n",
    "y_train_word_A = []\n",
    "y_test_word_N = []\n",
    "y_test_word_V = []\n",
    "y_test_word_A = []\n",
    "for i in range(len(y_train_class)):\n",
    "    if y_train_class[i] == 'N':\n",
    "        X_train_N.append(X_train[i])\n",
    "        y_train_word_N.append(y_train_word[i])\n",
    "    if y_train_class[i] == 'V':\n",
    "        X_train_V.append(X_train[i])\n",
    "        y_train_word_V.append(y_train_word[i])\n",
    "    if y_train_class[i] == 'A':\n",
    "        X_train_A.append(X_train[i])\n",
    "        y_train_word_A.append(y_train_word[i])\n",
    "for i in range(len(y_test_class)):\n",
    "    if y_test_class[i] == 'N':\n",
    "        X_test_N.append(X_test[i])\n",
    "        y_test_word_N.append(y_test_word[i])\n",
    "    if y_test_class[i] == 'V':\n",
    "        X_test_V.append(X_test[i])\n",
    "        y_test_word_V.append(y_test_word[i])\n",
    "    if y_test_class[i] == 'A':\n",
    "        X_test_A.append(X_test[i])\n",
    "        y_test_word_A.append(y_test_word[i])"
   ]
  },
  {
   "cell_type": "code",
   "execution_count": 75,
   "metadata": {
    "collapsed": false
   },
   "outputs": [],
   "source": [
    "ans = [0.0 for i in range(len(y_test_word_V))]\n",
    "for i in range(len(X_test_V)):\n",
    "    t = [-2.0 for l in range(5)]\n",
    "    for j in range(len(X_train_V)):\n",
    "        l = len(X_test_V[i])\n",
    "        if l > 0:\n",
    "            f_0 = X_train_V[j].find(X_test_V[i])\n",
    "            f = X_train_V[j].find(X_test_V[i][:-1])\n",
    "            f_2 = X_train_V[j].find(X_test_V[i][:-2])\n",
    "            f_3 = X_train_V[j].find(X_test_V[i][:-3])\n",
    "            f_4 = X_train_V[j].find(X_test_V[i][:round(l/2)])\n",
    "        else:\n",
    "            f = X_train_V[j].find(X_test_V[i][:int(l/2) + 2])\n",
    "        if f_0 == 0:\n",
    "            t[0] = j\n",
    "        if f == 0:\n",
    "            t[1] = j\n",
    "        if f_2 == 0:\n",
    "            t[2] = j\n",
    "        if f_3 == 0:\n",
    "            t[3] = j\n",
    "        if f_4 == 0:\n",
    "            t[4] = j\n",
    "    for h in range(5):\n",
    "        if t[h] != -2:\n",
    "            ans[i] = y_train_word_V[t[h]]\n",
    "            break\n",
    "    if ans[i] == 0:\n",
    "        ans[i] = X_test_V[i]"
   ]
  },
  {
   "cell_type": "code",
   "execution_count": 76,
   "metadata": {
    "collapsed": false
   },
   "outputs": [
    {
     "data": {
      "text/plain": [
       "0"
      ]
     },
     "execution_count": 76,
     "metadata": {},
     "output_type": "execute_result"
    }
   ],
   "source": [
    "len([i for i in range(len(ans)) if ans[i] == 0.0])"
   ]
  },
  {
   "cell_type": "code",
   "execution_count": 77,
   "metadata": {
    "collapsed": false
   },
   "outputs": [
    {
     "data": {
      "text/plain": [
       "0.9958679847272347"
      ]
     },
     "execution_count": 77,
     "metadata": {},
     "output_type": "execute_result"
    }
   ],
   "source": [
    "metrics.accuracy_score(y_test_word_V, ans)"
   ]
  },
  {
   "cell_type": "code",
   "execution_count": 99,
   "metadata": {
    "collapsed": true
   },
   "outputs": [],
   "source": [
    "ans_2 = [0.0 for i in range(len(y_test_word_N))]\n",
    "for i in range(len(X_test_N)):\n",
    "    t = [-2.0 for l in range(3)]\n",
    "    for j in range(len(X_train_N)):\n",
    "        l = len(X_test_N[i])\n",
    "        if l - 1 > 0:\n",
    "            f_0 = X_train_N[j].find(X_test_N[i])\n",
    "            f = X_train_N[j].find(X_test_N[i][:-1])\n",
    "            f_2 = X_train_N[j].find(X_test_N[i][:round(l/2)+4])\n",
    "            #f_3 = X_train_N[j].find(X_test_N[i][:-3])\n",
    "        else:\n",
    "            f = X_train_N[j].find(X_test_N[i][:round(l/2)])\n",
    "        if f_0 == 0:\n",
    "            t[0] = j\n",
    "        if f == 0:\n",
    "            t[1] = j\n",
    "        if f_2 == 0:\n",
    "            t[2] = j\n",
    "        #if f_3 == 0:\n",
    "            #t[3] = j\n",
    "    for h in range(3):\n",
    "        if t[h] != -2:\n",
    "            ans_2[i] = y_train_word_N[t[h]]\n",
    "            break\n",
    "    if ans_2[i] == 0:\n",
    "        ans_2[i] = X_test_N[i]"
   ]
  },
  {
   "cell_type": "code",
   "execution_count": 100,
   "metadata": {
    "collapsed": false,
    "scrolled": true
   },
   "outputs": [
    {
     "data": {
      "text/plain": [
       "0.7332205301748449"
      ]
     },
     "execution_count": 100,
     "metadata": {},
     "output_type": "execute_result"
    }
   ],
   "source": [
    "metrics.accuracy_score(y_test_word_N, ans_2)"
   ]
  },
  {
   "cell_type": "code",
   "execution_count": 48,
   "metadata": {
    "collapsed": false
   },
   "outputs": [
    {
     "data": {
      "text/plain": [
       "0"
      ]
     },
     "execution_count": 48,
     "metadata": {},
     "output_type": "execute_result"
    }
   ],
   "source": [
    "len([i for i in range(len(ans_2)) if ans_2[i] == 0.0])"
   ]
  },
  {
   "cell_type": "code",
   "execution_count": 60,
   "metadata": {
    "collapsed": false
   },
   "outputs": [],
   "source": [
    "letter = []\n",
    "for i in range(len(y_test_word_N)):\n",
    "    letter.append(y_test_word_N[i][-3:])\n",
    "letter = collections.Counter(letter)"
   ]
  },
  {
   "cell_type": "code",
   "execution_count": 113,
   "metadata": {
    "collapsed": true
   },
   "outputs": [],
   "source": [
    "ans_3 = [0.0 for i in range(len(y_test_word_A))]\n",
    "for i in range(len(X_test_A)):\n",
    "    t = [-2.0 for l in range(4)]\n",
    "    for j in range(len(X_train_A)):\n",
    "        l = len(X_test_A[i])\n",
    "        if l - 1 > 0:\n",
    "            f_0 = X_train_A[j].find(X_test_A[i])\n",
    "            f = X_train_A[j].find(X_test_A[i][:-1])\n",
    "            f_2 = X_train_A[j].find(X_test_A[i][:-2])\n",
    "            f_3 = X_train_A[j].find(X_test_A[i][:round(l/2)+3])\n",
    "        else:\n",
    "            f = X_train_A[j].find(X_test_A[i][:round(l/2)])\n",
    "        if f_0 == 0:\n",
    "            t[0] = j\n",
    "        if f == 0:\n",
    "            t[1] = j\n",
    "        if f_2 == 0:\n",
    "            t[2] = j\n",
    "        if f_3 == 0:\n",
    "            t[3] = j\n",
    "    for h in range(4):\n",
    "        if t[h] != -2:\n",
    "            ans_3[i] = y_train_word_A[t[h]]\n",
    "            break\n",
    "    if ans_3[i] == 0:\n",
    "        ans_3[i] = X_test_A[i]"
   ]
  },
  {
   "cell_type": "code",
   "execution_count": 114,
   "metadata": {
    "collapsed": false
   },
   "outputs": [
    {
     "data": {
      "text/plain": [
       "0.8032445923460898"
      ]
     },
     "execution_count": 114,
     "metadata": {},
     "output_type": "execute_result"
    }
   ],
   "source": [
    "metrics.accuracy_score(y_test_word_A, ans_3)"
   ]
  },
  {
   "cell_type": "code",
   "execution_count": 68,
   "metadata": {
    "collapsed": false
   },
   "outputs": [
    {
     "data": {
      "text/plain": [
       "0"
      ]
     },
     "execution_count": 68,
     "metadata": {},
     "output_type": "execute_result"
    }
   ],
   "source": [
    "len([i for i in range(len(ans_3)) if ans_3[i] == 0.0])"
   ]
  },
  {
   "cell_type": "markdown",
   "metadata": {
    "collapsed": true
   },
   "source": [
    "## Далее следует итоговое решение:"
   ]
  },
  {
   "cell_type": "code",
   "execution_count": 115,
   "metadata": {
    "collapsed": false
   },
   "outputs": [
    {
     "name": "stderr",
     "output_type": "stream",
     "text": [
      "/home/evgeny/anaconda3/lib/python3.5/site-packages/sklearn/utils/deprecation.py:70: DeprecationWarning: Function transform is deprecated; Support to use estimators as feature selectors will be removed in version 0.19. Use SelectFromModel instead.\n",
      "  warnings.warn(msg, category=DeprecationWarning)\n"
     ]
    }
   ],
   "source": [
    "count_vectorizer = CountVectorizer(analyzer='char_wb', ngram_range=(4, 6), lowercase=False, decode_error='ignore')\n",
    "count_vectorizer.fit(train_data_one)\n",
    "sparse_feature_matrix = count_vectorizer.transform(train_data)\n",
    "sparse_feature_matrix_test = count_vectorizer.transform(test_str)\n",
    "model = svm.LinearSVC()\n",
    "model.fit_transform(sparse_feature_matrix, train_target_for_test)\n",
    "preds = model.predict(sparse_feature_matrix_test)"
   ]
  },
  {
   "cell_type": "code",
   "execution_count": 116,
   "metadata": {
    "collapsed": false
   },
   "outputs": [
    {
     "name": "stdout",
     "output_type": "stream",
     "text": [
      "29661 29661\n"
     ]
    }
   ],
   "source": [
    "print(len(preds), len(test_str))"
   ]
  },
  {
   "cell_type": "code",
   "execution_count": 117,
   "metadata": {
    "collapsed": true
   },
   "outputs": [],
   "source": [
    "test_V = []\n",
    "test_N = []\n",
    "test_A = []\n",
    "for i in range(len(preds)):\n",
    "    if preds[i] == 'V':\n",
    "        test_V.append(test_str[i])\n",
    "    if preds[i] == 'N':\n",
    "        test_N.append(test_str[i])\n",
    "    if preds[i] == 'A':\n",
    "        test_A.append(test_str[i])"
   ]
  },
  {
   "cell_type": "code",
   "execution_count": 118,
   "metadata": {
    "collapsed": true
   },
   "outputs": [],
   "source": [
    "ans_test = [0.0 for i in range(len(test_V))]\n",
    "for i in range(len(test_V)):\n",
    "    t = [-2.0 for l in range(5)]\n",
    "    for j in range(len(train_V)):\n",
    "        l = len(test_V[i])\n",
    "        if l > 0:\n",
    "            f_0 = train_V[j].find(test_V[i])\n",
    "            f = train_V[j].find(test_V[i][:-1])\n",
    "            f_2 = train_V[j].find(test_V[i][:-2])\n",
    "            f_3 = train_V[j].find(test_V[i][:-3])\n",
    "            f_4 = train_V[j].find(test_V[i][:round(l/2) + 2])\n",
    "        else:\n",
    "            f = train_V[j].find(test_V[i][:int(l/2) + 2])\n",
    "        if f_0 == 0:\n",
    "            t[0] = j\n",
    "        if f == 0:\n",
    "            t[1] = j\n",
    "        if f_2 == 0:\n",
    "            t[2] = j\n",
    "        if f_3 == 0:\n",
    "            t[3] = j\n",
    "        if f_4 == 0:\n",
    "            t[4] = j\n",
    "    for h in range(5):\n",
    "        if t[h] != -2:\n",
    "            ans_test[i] = train_target_V[t[h]]\n",
    "            break\n",
    "    if ans_test[i] == 0:\n",
    "        ans_test[i] = test_V[i]"
   ]
  },
  {
   "cell_type": "code",
   "execution_count": 119,
   "metadata": {
    "collapsed": false
   },
   "outputs": [],
   "source": [
    "total_answer = [0.0 for i in range(len(preds))]"
   ]
  },
  {
   "cell_type": "code",
   "execution_count": 120,
   "metadata": {
    "collapsed": true
   },
   "outputs": [],
   "source": [
    "k = 0\n",
    "for i in range(len(preds)):\n",
    "    if (preds[i] == 'V'):\n",
    "        total_answer[i] = ans_test[k]\n",
    "        k += 1"
   ]
  },
  {
   "cell_type": "code",
   "execution_count": 121,
   "metadata": {
    "collapsed": true
   },
   "outputs": [],
   "source": [
    "ans_test_2 = [0.0 for i in range(len(test_N))]\n",
    "for i in range(len(test_N)):\n",
    "    t = [-2.0 for l in range(3)]\n",
    "    for j in range(len(train_N)):\n",
    "        l = len(test_N[i])\n",
    "        if l - 1 > 0:\n",
    "            f_0 = train_N[j].find(test_N[i])\n",
    "            f = train_N[j].find(test_N[i][:-1])\n",
    "            f_2 = train_N[j].find(test_N[i][:round(l/2)+4])\n",
    "            #f_3 = X_train_N[j].find(X_test_N[i][:-3])\n",
    "        else:\n",
    "            f = train_N[j].find(test_N[i][:round(l/2)])\n",
    "        if f_0 == 0:\n",
    "            t[0] = j\n",
    "        if f == 0:\n",
    "            t[1] = j\n",
    "        if f_2 == 0:\n",
    "            t[2] = j\n",
    "        #if f_3 == 0:\n",
    "            #t[3] = j\n",
    "    for h in range(3):\n",
    "        if t[h] != -2:\n",
    "            ans_test_2[i] = train_target_N[t[h]]\n",
    "            break\n",
    "    if ans_test_2[i] == 0:\n",
    "        ans_test_2[i] = test_N[i]"
   ]
  },
  {
   "cell_type": "code",
   "execution_count": 122,
   "metadata": {
    "collapsed": true
   },
   "outputs": [],
   "source": [
    "k = 0\n",
    "for i in range(len(preds)):\n",
    "    if (preds[i] == 'N'):\n",
    "        total_answer[i] = ans_test_2[k]\n",
    "        k += 1"
   ]
  },
  {
   "cell_type": "code",
   "execution_count": 123,
   "metadata": {
    "collapsed": true
   },
   "outputs": [],
   "source": [
    "ans_test_3 = [0.0 for i in range(len(test_A))]\n",
    "for i in range(len(test_A)):\n",
    "    t = [-2.0 for l in range(4)]\n",
    "    for j in range(len(train_A)):\n",
    "        l = len(test_A[i])\n",
    "        if l - 1 > 0:\n",
    "            f_0 = train_A[j].find(test_A[i])\n",
    "            f = train_A[j].find(test_A[i][:-1])\n",
    "            f_2 = train_A[j].find(test_A[i][:-2])\n",
    "            f_3 = train_A[j].find(test_A[i][:round(l/2)+3])\n",
    "        else:\n",
    "            f = train_A[j].find(test_A[i][:round(l/2)])\n",
    "        if f_0 == 0:\n",
    "            t[0] = j\n",
    "        if f == 0:\n",
    "            t[1] = j\n",
    "        if f_2 == 0:\n",
    "            t[2] = j\n",
    "        if f_3 == 0:\n",
    "            t[3] = j\n",
    "    for h in range(4):\n",
    "        if t[h] != -2:\n",
    "            ans_test_3[i] = train_target_A[t[h]]\n",
    "            break\n",
    "    if ans_test_3[i] == 0:\n",
    "        ans_test_3[i] = test_A[i]"
   ]
  },
  {
   "cell_type": "code",
   "execution_count": 124,
   "metadata": {
    "collapsed": false
   },
   "outputs": [
    {
     "data": {
      "text/plain": [
       "3248"
      ]
     },
     "execution_count": 124,
     "metadata": {},
     "output_type": "execute_result"
    }
   ],
   "source": [
    "len([i for i in range(len(total_answer)) if total_answer[i] == 0.0])"
   ]
  },
  {
   "cell_type": "code",
   "execution_count": 125,
   "metadata": {
    "collapsed": true
   },
   "outputs": [],
   "source": [
    "k = 0\n",
    "for i in range(len(preds)):\n",
    "    if (preds[i] == 'A'):\n",
    "        total_answer[i] = ans_test_3[k]\n",
    "        k += 1"
   ]
  },
  {
   "cell_type": "code",
   "execution_count": 126,
   "metadata": {
    "collapsed": false
   },
   "outputs": [
    {
     "data": {
      "text/plain": [
       "0"
      ]
     },
     "execution_count": 126,
     "metadata": {},
     "output_type": "execute_result"
    }
   ],
   "source": [
    "len([i for i in range(len(total_answer)) if total_answer[i] == 0.0])"
   ]
  },
  {
   "cell_type": "code",
   "execution_count": 127,
   "metadata": {
    "collapsed": false
   },
   "outputs": [],
   "source": [
    "for i in range(len(total_answer)):\n",
    "    if total_answer[i] != 0.0:\n",
    "        total_answer[i] = total_answer[i] + \"+\" + preds[i]"
   ]
  },
  {
   "cell_type": "code",
   "execution_count": 128,
   "metadata": {
    "collapsed": false
   },
   "outputs": [],
   "source": [
    "sample_submission['Category'] = total_answer"
   ]
  },
  {
   "cell_type": "code",
   "execution_count": 129,
   "metadata": {
    "collapsed": true
   },
   "outputs": [],
   "source": [
    "sample_submission.to_csv(\"task2_linear_ans_3.tsv\", sep=',', index=False)"
   ]
  }
 ],
 "metadata": {
  "kernelspec": {
   "display_name": "Python 3",
   "language": "python",
   "name": "python3"
  },
  "language_info": {
   "codemirror_mode": {
    "name": "ipython",
    "version": 3
   },
   "file_extension": ".py",
   "mimetype": "text/x-python",
   "name": "python",
   "nbconvert_exporter": "python",
   "pygments_lexer": "ipython3",
   "version": "3.5.3"
  }
 },
 "nbformat": 4,
 "nbformat_minor": 0
}
