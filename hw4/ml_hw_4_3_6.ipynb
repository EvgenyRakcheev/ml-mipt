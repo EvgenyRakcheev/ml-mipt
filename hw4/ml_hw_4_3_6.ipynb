{
 "cells": [
  {
   "cell_type": "markdown",
   "metadata": {},
   "source": [
    "### №6\n",
    "### $𝑇𝑃, 𝐹𝑃, 𝑇𝑁, 𝐹𝑁$ - true positive, false positive, true negative, false negative\n",
    "### $Accuracy: \\frac{TP + TN}{T + N}$, где T - кол-во 1 в выборке, а N - кол-во -1\n",
    "### $Precision: \\frac{TP}{TP + FP}$\n",
    "### $Recall: \\frac{TP}{P}$\n",
    "### Метрика - площать под ROC-AUC кривой, которая строится по точкам FPR, TPR, которые в свою очередь получаются при переборе порога вероятности. Если прогнозируемая вероятность больше порога, то относим объект к классу 1, если меньше, то к -1"
   ]
  },
  {
   "cell_type": "code",
   "execution_count": null,
   "metadata": {
    "collapsed": true
   },
   "outputs": [],
   "source": []
  }
 ],
 "metadata": {
  "kernelspec": {
   "display_name": "Python 3",
   "language": "python",
   "name": "python3"
  },
  "language_info": {
   "codemirror_mode": {
    "name": "ipython",
    "version": 3
   },
   "file_extension": ".py",
   "mimetype": "text/x-python",
   "name": "python",
   "nbconvert_exporter": "python",
   "pygments_lexer": "ipython3",
   "version": "3.5.3"
  }
 },
 "nbformat": 4,
 "nbformat_minor": 0
}
