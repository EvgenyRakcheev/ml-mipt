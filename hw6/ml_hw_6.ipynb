{
 "cells": [
  {
   "cell_type": "markdown",
   "metadata": {},
   "source": [
    "!mkdir cifar10\n",
    "!curl -o cifar-10-python.tar.gz https://www.cs.toronto.edu/~kriz/cifar-10-python.tar.gz\n",
    "!tar -xvzf cifar-10-python.tar.gz -C cifar10"
   ]
  },
  {
   "cell_type": "markdown",
   "metadata": {},
   "source": [
    "### Сначала пытался сделать свою сетку, следуя советам в ноутбуке домашки. Точность доходила до 85-86 %. Поэтому пришлось мало-помалу красть сеточку из Интернета. \n",
    "# Итого 92.51% !\n",
    "### Брал ее отсюда: https://github.com/Lasagne/Recipes/blob/master/papers/deep_residual_learning/Deep_Residual_Learning_CIFAR-10.py\n",
    "### Используется Data Augmentation (добавляем к картинке рамку. В оригинальной статье ее заполняли 0, я решил сделать mode='median', показалось, что это логичнее), куча слоев и preprocessing (добавляем к датасету отраженные картинки). Дважды за время обучения уменьшаем learning rate в 10 раз. Дало нужный результат. (Пробовал уменьшать на других эпохах, получалось не очень)"
   ]
  },
  {
   "cell_type": "code",
   "execution_count": 28,
   "metadata": {
    "collapsed": true
   },
   "outputs": [],
   "source": [
    "import numpy as np\n",
    "import matplotlib.pyplot as plt\n",
    "\n",
    "%matplotlib inline"
   ]
  },
  {
   "cell_type": "code",
   "execution_count": 29,
   "metadata": {
    "collapsed": false
   },
   "outputs": [],
   "source": [
    "import sys\n",
    "import os\n",
    "import time\n",
    "import string\n",
    "import random\n",
    "import pickle\n",
    "\n",
    "import numpy as np\n",
    "import theano\n",
    "import theano.tensor as T\n",
    "import lasagne\n",
    "\n",
    "sys.setrecursionlimit(10000)\n",
    "\n",
    "def unpickle(file):\n",
    "    import cPickle\n",
    "    fo = open(file, 'rb')\n",
    "    dict = pickle.load(fo)\n",
    "    fo.close()\n",
    "    return dict\n",
    "\n",
    "def load_data():\n",
    "    xs = []\n",
    "    ys = []\n",
    "    for j in range(5):\n",
    "      d = unpickle('cifar10/cifar-10-batches-py/data_batch_' + str(j+1))\n",
    "      x = d['data']\n",
    "      y = d['labels']\n",
    "      xs.append(x)\n",
    "      ys.append(y)\n",
    "\n",
    "    d = unpickle('cifar10/cifar-10-batches-py/test_batch')\n",
    "    xs.append(d['data'])\n",
    "    ys.append(d['labels'])\n",
    "\n",
    "    x = np.concatenate(xs) / np.float32(255)\n",
    "    y = np.concatenate(ys)\n",
    "    x = np.dstack((x[:, :1024], x[:, 1024:2048], x[:, 2048:]))\n",
    "    x = x.reshape((x.shape[0], 32, 32, 3)).transpose(0,3,1,2)\n",
    "\n",
    "    pixel_mean = np.mean(x[0:50000],axis=0)\n",
    "    x -= pixel_mean\n",
    "\n",
    "    X_train = x[0:50000,:,:,:]\n",
    "    Y_train = y[0:50000]\n",
    "    X_train_flip = X_train[:,:,:,::-1]\n",
    "    Y_train_flip = Y_train\n",
    "    X_train = np.concatenate((X_train,X_train_flip),axis=0)\n",
    "    Y_train = np.concatenate((Y_train,Y_train_flip),axis=0)\n",
    "\n",
    "    X_test = x[50000:,:,:,:]\n",
    "    Y_test = y[50000:]\n",
    "\n",
    "    return (\n",
    "        lasagne.utils.floatX(X_train),\n",
    "        Y_train.astype('int32'),\n",
    "        lasagne.utils.floatX(X_test),\n",
    "        Y_test.astype('int32'),\n",
    "    )"
   ]
  },
  {
   "cell_type": "code",
   "execution_count": 30,
   "metadata": {
    "collapsed": false
   },
   "outputs": [],
   "source": [
    "X_train, y_train, X_test, y_test = load_data()"
   ]
  },
  {
   "cell_type": "code",
   "execution_count": 31,
   "metadata": {
    "collapsed": false
   },
   "outputs": [],
   "source": [
    "import lasagne\n",
    "from theano import tensor as T\n",
    "from lasagne.nonlinearities import *\n",
    "\n",
    "input_X = T.tensor4(\"X\")\n",
    "target_y = T.vector(\"target Y integer\",dtype='int32')"
   ]
  },
  {
   "cell_type": "code",
   "execution_count": 32,
   "metadata": {
    "collapsed": true
   },
   "outputs": [],
   "source": [
    "from lasagne.layers import Conv2DLayer as ConvLayer\n",
    "from lasagne.layers import ElemwiseSumLayer\n",
    "from lasagne.layers import InputLayer\n",
    "from lasagne.layers import DenseLayer\n",
    "from lasagne.layers import GlobalPoolLayer\n",
    "from lasagne.layers import PadLayer\n",
    "from lasagne.layers import ExpressionLayer\n",
    "from lasagne.layers import NonlinearityLayer\n",
    "from lasagne.nonlinearities import softmax, rectify\n",
    "from lasagne.layers import batch_norm\n",
    "\n",
    "def build_cnn(input_var=None, n=5):\n",
    "    def residual_block(l, increase_dim=False, projection=False):\n",
    "        input_num_filters = l.output_shape[1]\n",
    "        if increase_dim:\n",
    "            first_stride = (2,2)\n",
    "            out_num_filters = input_num_filters * 2\n",
    "        else:\n",
    "            first_stride = (1,1)\n",
    "            out_num_filters = input_num_filters\n",
    "\n",
    "        stack_1 = batch_norm(ConvLayer(l, num_filters=out_num_filters, filter_size=(3,3), stride=first_stride, nonlinearity=rectify, pad='same', W=lasagne.init.HeNormal(gain='relu'), flip_filters=False))\n",
    "        stack_2 = batch_norm(ConvLayer(stack_1, num_filters=out_num_filters, filter_size=(3,3), stride=(1,1), nonlinearity=None, pad='same', W=lasagne.init.HeNormal(gain='relu'), flip_filters=False))\n",
    "        \n",
    "        if increase_dim:\n",
    "            if projection:\n",
    "                projection = batch_norm(ConvLayer(l, num_filters=out_num_filters, filter_size=(1,1), stride=(2,2), nonlinearity=None, pad='same', b=None, flip_filters=False))\n",
    "                block = NonlinearityLayer(ElemwiseSumLayer([stack_2, projection]),nonlinearity=rectify)\n",
    "            else:\n",
    "                identity = ExpressionLayer(\n",
    "                    l, lambda X: X[:, :, ::2, ::2], lambda s: (s[0], s[1], s[2]//2, s[3]//2)\n",
    "                )\n",
    "                padding = PadLayer(identity, [out_num_filters//4,0,0], batch_ndim=1)\n",
    "                block = NonlinearityLayer(ElemwiseSumLayer([stack_2, padding]),nonlinearity=rectify)\n",
    "        else:\n",
    "            block = NonlinearityLayer(ElemwiseSumLayer([stack_2, l]),nonlinearity=rectify)\n",
    "        \n",
    "        return block\n",
    "\n",
    "    l_in = InputLayer(shape=(None, 3, 32, 32), input_var=input_var)\n",
    "\n",
    "    l = batch_norm(ConvLayer(l_in, num_filters=16, filter_size=(3,3), stride=(1,1), nonlinearity=rectify, pad='same', W=lasagne.init.HeNormal(gain='relu'), flip_filters=False))\n",
    "    \n",
    "    for _ in range(n):\n",
    "        l = residual_block(l)\n",
    "\n",
    "    l = residual_block(l, increase_dim=True)\n",
    "    for _ in range(1,n):\n",
    "        l = residual_block(l)\n",
    "\n",
    "    l = residual_block(l, increase_dim=True)\n",
    "    for _ in range(1,n):\n",
    "        l = residual_block(l)\n",
    "    \n",
    "    l = GlobalPoolLayer(l)\n",
    "\n",
    "    network = DenseLayer(\n",
    "            l, num_units=10,\n",
    "            W=lasagne.init.HeNormal(),\n",
    "            nonlinearity=softmax)\n",
    "\n",
    "    return network"
   ]
  },
  {
   "cell_type": "code",
   "execution_count": 33,
   "metadata": {
    "collapsed": true
   },
   "outputs": [],
   "source": [
    "def iterate_minibatches(inputs, targets, batchsize, shuffle=False, augment=False):\n",
    "    assert len(inputs) == len(targets)\n",
    "    if shuffle:\n",
    "        indices = np.arange(len(inputs))\n",
    "        np.random.shuffle(indices)\n",
    "    for start_idx in range(0, len(inputs) - batchsize + 1, batchsize):\n",
    "        if shuffle:\n",
    "            excerpt = indices[start_idx:start_idx + batchsize]\n",
    "        else:\n",
    "            excerpt = slice(start_idx, start_idx + batchsize)\n",
    "        if augment:\n",
    "            padded = np.pad(inputs[excerpt],((0,0),(0,0),(4,4),(4,4)),mode='median')\n",
    "            random_cropped = np.zeros(inputs[excerpt].shape, dtype=np.float32)\n",
    "            crops = np.random.random_integers(0,high=8,size=(batchsize,2))\n",
    "            for r in range(batchsize):\n",
    "                random_cropped[r,:,:,:] = padded[r,:,crops[r,0]:(crops[r,0]+32),crops[r,1]:(crops[r,1]+32)]\n",
    "            inp_exc = random_cropped\n",
    "        else:\n",
    "            inp_exc = inputs[excerpt]\n",
    "\n",
    "        yield inp_exc, targets[excerpt]"
   ]
  },
  {
   "cell_type": "code",
   "execution_count": 34,
   "metadata": {
    "collapsed": false
   },
   "outputs": [],
   "source": [
    "net = build_cnn(input_X)"
   ]
  },
  {
   "cell_type": "code",
   "execution_count": 35,
   "metadata": {
    "collapsed": false
   },
   "outputs": [
    {
     "name": "stdout",
     "output_type": "stream",
     "text": [
      "[W, beta, gamma, W, beta, gamma, W, beta, gamma, W, beta, gamma, W, beta, gamma, W, beta, gamma, W, beta, gamma, W, beta, gamma, W, beta, gamma, W, beta, gamma, W, beta, gamma, W, beta, gamma, W, beta, gamma, W, beta, gamma, W, beta, gamma, W, beta, gamma, W, beta, gamma, W, beta, gamma, W, beta, gamma, W, beta, gamma, W, beta, gamma, W, beta, gamma, W, beta, gamma, W, beta, gamma, W, beta, gamma, W, beta, gamma, W, beta, gamma, W, beta, gamma, W, beta, gamma, W, beta, gamma, W, beta, gamma, W, b]\n"
     ]
    }
   ],
   "source": [
    "y_predicted = lasagne.layers.get_output(net)\n",
    "all_weights = lasagne.layers.get_all_params(net, trainable=True)\n",
    "all_layers = lasagne.layers.get_all_layers(net)\n",
    "print(all_weights)"
   ]
  },
  {
   "cell_type": "code",
   "execution_count": 36,
   "metadata": {
    "collapsed": true
   },
   "outputs": [],
   "source": [
    "reg_lambda = 0.0001\n",
    "current_learning_rate = 0.1\n",
    "loss = lasagne.objectives.categorical_crossentropy(y_predicted, target_y).mean()\n",
    "loss += reg_lambda * lasagne.regularization.regularize_layer_params(all_layers, lasagne.regularization.l2)\n",
    "accuracy = lasagne.objectives.categorical_accuracy(y_predicted, target_y).mean()"
   ]
  },
  {
   "cell_type": "code",
   "execution_count": 37,
   "metadata": {
    "collapsed": false
   },
   "outputs": [],
   "source": [
    "grad_update = lasagne.updates.momentum(loss, all_weights, learning_rate=current_learning_rate, momentum=0.9)"
   ]
  },
  {
   "cell_type": "code",
   "execution_count": 38,
   "metadata": {
    "collapsed": true
   },
   "outputs": [],
   "source": [
    "train_fun = theano.function([input_X, target_y], [loss, accuracy], updates=grad_update, allow_input_downcast=True)"
   ]
  },
  {
   "cell_type": "code",
   "execution_count": null,
   "metadata": {
    "collapsed": true
   },
   "outputs": [],
   "source": [
    "accuracy_fun = theano.function([input_X, target_y], accuracy, allow_input_downcast=True)"
   ]
  },
  {
   "cell_type": "code",
   "execution_count": null,
   "metadata": {
    "collapsed": false
   },
   "outputs": [
    {
     "name": "stderr",
     "output_type": "stream",
     "text": [
      "/home/ec2-user/anaconda2/lib/python2.7/site-packages/ipykernel/__main__.py:19: DeprecationWarning: This function is deprecated. Please call randint(0, 8 + 1) instead\n"
     ]
    },
    {
     "name": "stdout",
     "output_type": "stream",
     "text": [
      "Epoch 1 of 82 took 212.418s\n",
      "  training loss (in-iteration):\t\t1.850246\n",
      "  train accuracy:\t\t44.16 %\n",
      "  validation accuracy:\t\t61.19 %\n",
      "Epoch 2 of 82 took 212.414s\n",
      "  training loss (in-iteration):\t\t1.188111\n",
      "  train accuracy:\t\t67.98 %\n",
      "  validation accuracy:\t\t75.73 %\n",
      "Epoch 3 of 82 took 212.435s\n",
      "  training loss (in-iteration):\t\t0.932953\n",
      "  train accuracy:\t\t76.65 %\n",
      "  validation accuracy:\t\t79.28 %\n",
      "Epoch 4 of 82 took 212.415s\n",
      "  training loss (in-iteration):\t\t0.814125\n",
      "  train accuracy:\t\t80.42 %\n",
      "  validation accuracy:\t\t80.40 %\n",
      "Epoch 5 of 82 took 212.447s\n",
      "  training loss (in-iteration):\t\t0.747206\n",
      "  train accuracy:\t\t82.69 %\n",
      "  validation accuracy:\t\t81.71 %\n",
      "Epoch 6 of 82 took 212.430s\n",
      "  training loss (in-iteration):\t\t0.710085\n",
      "  train accuracy:\t\t83.94 %\n",
      "  validation accuracy:\t\t83.33 %\n",
      "Epoch 7 of 82 took 212.457s\n",
      "  training loss (in-iteration):\t\t0.677047\n",
      "  train accuracy:\t\t85.06 %\n",
      "  validation accuracy:\t\t83.91 %\n",
      "Epoch 8 of 82 took 212.402s\n",
      "  training loss (in-iteration):\t\t0.660051\n",
      "  train accuracy:\t\t85.65 %\n",
      "  validation accuracy:\t\t84.60 %\n",
      "Epoch 9 of 82 took 212.416s\n",
      "  training loss (in-iteration):\t\t0.638629\n",
      "  train accuracy:\t\t86.42 %\n",
      "  validation accuracy:\t\t84.61 %\n",
      "Epoch 10 of 82 took 212.398s\n",
      "  training loss (in-iteration):\t\t0.629159\n",
      "  train accuracy:\t\t86.83 %\n",
      "  validation accuracy:\t\t85.28 %\n",
      "Epoch 11 of 82 took 212.394s\n",
      "  training loss (in-iteration):\t\t0.619886\n",
      "  train accuracy:\t\t87.22 %\n",
      "  validation accuracy:\t\t85.37 %\n",
      "Epoch 12 of 82 took 212.420s\n",
      "  training loss (in-iteration):\t\t0.605050\n",
      "  train accuracy:\t\t87.88 %\n",
      "  validation accuracy:\t\t84.82 %\n",
      "Epoch 13 of 82 took 212.400s\n",
      "  training loss (in-iteration):\t\t0.603344\n",
      "  train accuracy:\t\t88.05 %\n",
      "  validation accuracy:\t\t84.92 %\n",
      "Epoch 14 of 82 took 212.390s\n",
      "  training loss (in-iteration):\t\t0.594861\n",
      "  train accuracy:\t\t88.34 %\n",
      "  validation accuracy:\t\t85.01 %\n",
      "Epoch 15 of 82 took 212.404s\n",
      "  training loss (in-iteration):\t\t0.593684\n",
      "  train accuracy:\t\t88.50 %\n",
      "  validation accuracy:\t\t86.51 %\n",
      "Epoch 16 of 82 took 212.407s\n",
      "  training loss (in-iteration):\t\t0.586812\n",
      "  train accuracy:\t\t88.79 %\n",
      "  validation accuracy:\t\t86.29 %\n",
      "Epoch 17 of 82 took 212.465s\n",
      "  training loss (in-iteration):\t\t0.584776\n",
      "  train accuracy:\t\t88.93 %\n",
      "  validation accuracy:\t\t86.69 %\n",
      "Epoch 18 of 82 took 212.426s\n",
      "  training loss (in-iteration):\t\t0.576434\n",
      "  train accuracy:\t\t89.28 %\n",
      "  validation accuracy:\t\t85.91 %\n",
      "Epoch 19 of 82 took 212.410s\n",
      "  training loss (in-iteration):\t\t0.575038\n",
      "  train accuracy:\t\t89.33 %\n",
      "  validation accuracy:\t\t87.32 %\n",
      "Epoch 20 of 82 took 212.426s\n",
      "  training loss (in-iteration):\t\t0.570885\n",
      "  train accuracy:\t\t89.61 %\n",
      "  validation accuracy:\t\t86.07 %\n",
      "Epoch 21 of 82 took 212.409s\n",
      "  training loss (in-iteration):\t\t0.571323\n",
      "  train accuracy:\t\t89.53 %\n",
      "  validation accuracy:\t\t87.18 %\n",
      "Epoch 22 of 82 took 212.405s\n",
      "  training loss (in-iteration):\t\t0.568485\n",
      "  train accuracy:\t\t89.76 %\n",
      "  validation accuracy:\t\t85.91 %\n",
      "Epoch 23 of 82 took 212.406s\n",
      "  training loss (in-iteration):\t\t0.565369\n",
      "  train accuracy:\t\t89.96 %\n",
      "  validation accuracy:\t\t87.57 %\n",
      "Epoch 24 of 82 took 212.420s\n",
      "  training loss (in-iteration):\t\t0.565155\n",
      "  train accuracy:\t\t89.84 %\n",
      "  validation accuracy:\t\t87.07 %\n",
      "Epoch 25 of 82 took 212.414s\n",
      "  training loss (in-iteration):\t\t0.560454\n",
      "  train accuracy:\t\t90.19 %\n",
      "  validation accuracy:\t\t86.33 %\n",
      "Epoch 26 of 82 took 212.411s\n",
      "  training loss (in-iteration):\t\t0.560365\n",
      "  train accuracy:\t\t90.07 %\n",
      "  validation accuracy:\t\t87.41 %\n",
      "Epoch 27 of 82 took 212.410s\n",
      "  training loss (in-iteration):\t\t0.556628\n",
      "  train accuracy:\t\t90.34 %\n",
      "  validation accuracy:\t\t87.14 %\n",
      "Epoch 28 of 82 took 212.411s\n",
      "  training loss (in-iteration):\t\t0.557406\n",
      "  train accuracy:\t\t90.43 %\n",
      "  validation accuracy:\t\t87.19 %\n",
      "Epoch 29 of 82 took 212.429s\n",
      "  training loss (in-iteration):\t\t0.558168\n",
      "  train accuracy:\t\t90.31 %\n",
      "  validation accuracy:\t\t86.39 %\n",
      "Epoch 30 of 82 took 212.414s\n",
      "  training loss (in-iteration):\t\t0.553952\n",
      "  train accuracy:\t\t90.55 %\n",
      "  validation accuracy:\t\t86.35 %\n",
      "Epoch 31 of 82 took 212.431s\n",
      "  training loss (in-iteration):\t\t0.550198\n",
      "  train accuracy:\t\t90.49 %\n",
      "  validation accuracy:\t\t87.39 %\n",
      "Epoch 32 of 82 took 212.412s\n",
      "  training loss (in-iteration):\t\t0.553691\n",
      "  train accuracy:\t\t90.49 %\n",
      "  validation accuracy:\t\t87.43 %\n",
      "Epoch 33 of 82 took 212.422s\n",
      "  training loss (in-iteration):\t\t0.554555\n",
      "  train accuracy:\t\t90.51 %\n",
      "  validation accuracy:\t\t86.96 %\n",
      "Epoch 34 of 82 took 212.447s\n",
      "  training loss (in-iteration):\t\t0.550700\n",
      "  train accuracy:\t\t90.72 %\n",
      "  validation accuracy:\t\t87.56 %\n",
      "Epoch 35 of 82 took 212.427s\n",
      "  training loss (in-iteration):\t\t0.546365\n",
      "  train accuracy:\t\t90.83 %\n",
      "  validation accuracy:\t\t88.04 %\n",
      "Epoch 36 of 82 took 212.424s\n",
      "  training loss (in-iteration):\t\t0.541465\n",
      "  train accuracy:\t\t90.96 %\n",
      "  validation accuracy:\t\t87.41 %\n",
      "Epoch 37 of 82 took 212.436s\n",
      "  training loss (in-iteration):\t\t0.545806\n",
      "  train accuracy:\t\t90.87 %\n",
      "  validation accuracy:\t\t87.78 %\n",
      "Epoch 38 of 82 took 212.404s\n",
      "  training loss (in-iteration):\t\t0.544229\n",
      "  train accuracy:\t\t90.85 %\n",
      "  validation accuracy:\t\t87.05 %\n",
      "Epoch 39 of 82 took 212.440s\n",
      "  training loss (in-iteration):\t\t0.546654\n",
      "  train accuracy:\t\t90.88 %\n",
      "  validation accuracy:\t\t88.06 %\n",
      "Epoch 40 of 82 took 212.428s\n",
      "  training loss (in-iteration):\t\t0.543520\n",
      "  train accuracy:\t\t90.97 %\n",
      "  validation accuracy:\t\t87.63 %\n",
      "Epoch 41 of 82 took 212.421s\n",
      "  training loss (in-iteration):\t\t0.543642\n",
      "  train accuracy:\t\t90.95 %\n",
      "  validation accuracy:\t\t88.01 %\n",
      "New LR: 0.01\n",
      "Epoch 42 of 82 took 212.403s\n",
      "  training loss (in-iteration):\t\t0.414578\n",
      "  train accuracy:\t\t95.42 %\n",
      "  validation accuracy:\t\t91.26 %\n",
      "Epoch 43 of 82 took 212.392s\n",
      "  training loss (in-iteration):\t\t0.375118\n",
      "  train accuracy:\t\t96.58 %\n",
      "  validation accuracy:\t\t91.30 %\n",
      "Epoch 44 of 82 took 212.398s\n",
      "  training loss (in-iteration):\t\t0.353206\n",
      "  train accuracy:\t\t97.09 %\n",
      "  validation accuracy:\t\t91.86 %\n",
      "Epoch 45 of 82 took 212.388s\n",
      "  training loss (in-iteration):\t\t0.337685\n",
      "  train accuracy:\t\t97.35 %\n",
      "  validation accuracy:\t\t91.76 %\n",
      "Epoch 46 of 82 took 212.380s\n",
      "  training loss (in-iteration):\t\t0.321714\n",
      "  train accuracy:\t\t97.74 %\n",
      "  validation accuracy:\t\t91.75 %\n",
      "Epoch 47 of 82 took 212.394s\n",
      "  training loss (in-iteration):\t\t0.309623\n",
      "  train accuracy:\t\t97.93 %\n",
      "  validation accuracy:\t\t91.74 %\n",
      "Epoch 48 of 82 took 212.412s\n",
      "  training loss (in-iteration):\t\t0.297967\n",
      "  train accuracy:\t\t98.14 %\n",
      "  validation accuracy:\t\t91.88 %\n",
      "Epoch 49 of 82 took 212.428s\n",
      "  training loss (in-iteration):\t\t0.288550\n",
      "  train accuracy:\t\t98.27 %\n",
      "  validation accuracy:\t\t91.85 %\n",
      "Epoch 50 of 82 took 212.428s\n",
      "  training loss (in-iteration):\t\t0.278957\n",
      "  train accuracy:\t\t98.41 %\n",
      "  validation accuracy:\t\t92.01 %\n",
      "Epoch 51 of 82 took 212.441s\n",
      "  training loss (in-iteration):\t\t0.269092\n",
      "  train accuracy:\t\t98.57 %\n",
      "  validation accuracy:\t\t92.02 %\n",
      "Epoch 52 of 82 took 212.430s\n",
      "  training loss (in-iteration):\t\t0.262054\n",
      "  train accuracy:\t\t98.62 %\n",
      "  validation accuracy:\t\t91.45 %\n",
      "Epoch 53 of 82 took 212.434s\n",
      "  training loss (in-iteration):\t\t0.254763\n",
      "  train accuracy:\t\t98.70 %\n",
      "  validation accuracy:\t\t91.78 %\n",
      "Epoch 54 of 82 took 212.434s\n",
      "  training loss (in-iteration):\t\t0.247582\n",
      "  train accuracy:\t\t98.79 %\n",
      "  validation accuracy:\t\t91.72 %\n",
      "Epoch 55 of 82 took 212.405s\n",
      "  training loss (in-iteration):\t\t0.240918\n",
      "  train accuracy:\t\t98.87 %\n",
      "  validation accuracy:\t\t91.78 %\n",
      "Epoch 56 of 82 took 212.404s\n",
      "  training loss (in-iteration):\t\t0.234459\n",
      "  train accuracy:\t\t98.96 %\n",
      "  validation accuracy:\t\t91.60 %\n",
      "Epoch 57 of 82 took 212.394s\n",
      "  training loss (in-iteration):\t\t0.228656\n",
      "  train accuracy:\t\t98.98 %\n",
      "  validation accuracy:\t\t91.60 %\n",
      "Epoch 58 of 82 took 212.418s\n",
      "  training loss (in-iteration):\t\t0.224924\n",
      "  train accuracy:\t\t98.95 %\n",
      "  validation accuracy:\t\t91.57 %\n",
      "Epoch 59 of 82 took 212.432s\n",
      "  training loss (in-iteration):\t\t0.216889\n",
      "  train accuracy:\t\t99.08 %\n",
      "  validation accuracy:\t\t91.72 %\n",
      "Epoch 60 of 82 took 212.435s\n",
      "  training loss (in-iteration):\t\t0.214077\n",
      "  train accuracy:\t\t98.99 %\n",
      "  validation accuracy:\t\t91.52 %\n",
      "Epoch 61 of 82 took 212.433s\n",
      "  training loss (in-iteration):\t\t0.210207\n",
      "  train accuracy:\t\t99.03 %\n",
      "  validation accuracy:\t\t91.73 %\n",
      "New LR: 0.001\n"
     ]
    }
   ],
   "source": [
    "import time\n",
    "\n",
    "epohs_number = 82\n",
    "batch_size = 128\n",
    "batch_counter = 0\n",
    "\n",
    "for epoch in range(epohs_number):\n",
    "    batch_counter += 1\n",
    "    train_err = 0\n",
    "    train_acc = 0\n",
    "    train_batches = 0\n",
    "    start_time = time.time()\n",
    "    for batch in iterate_minibatches(X_train, y_train, batch_size, shuffle=True, augment=True):\n",
    "        inputs, targets = batch\n",
    "        train_err_batch, train_acc_batch = train_fun(inputs, targets)\n",
    "        train_err += train_err_batch\n",
    "        train_acc += train_acc_batch\n",
    "        train_batches += 1\n",
    "    \n",
    "    loss_history.append(train_err / train_batches)\n",
    "\n",
    "    val_acc = 0\n",
    "    val_batches = 0\n",
    "    for batch in iterate_minibatches(X_test, y_test, batch_size):\n",
    "        inputs, targets = batch\n",
    "        val_acc += accuracy_fun(inputs, targets)\n",
    "        val_batches += 1\n",
    "\n",
    "    print(\"Epoch {} of {} took {:.3f}s\".format(batch_counter, epohs_number, time.time() - start_time))\n",
    "    print(\"  training loss (in-iteration):\\t\\t{:.6f}\".format(train_err / train_batches))\n",
    "    print(\"  train accuracy:\\t\\t{:.2f} %\".format(train_acc / train_batches * 100))\n",
    "    print(\"  validation accuracy:\\t\\t{:.2f} %\".format(val_acc / val_batches * 100))\n",
    "\n",
    "    if (epoch + 1) == 41 or (epoch + 1) == 61:\n",
    "        current_learning_rate = current_learning_rate * 0.1\n",
    "        print(\"New LR: {}\".format(current_learning_rate))\n",
    "        grad_update = lasagne.updates.momentum(\n",
    "            loss, all_weights, learning_rate=current_learning_rate, momentum=0.9\n",
    "        )\n",
    "        train_fun = theano.function(\n",
    "            [input_X, target_y], [loss, accuracy], updates=grad_update, allow_input_downcast=True\n",
    "        )\n",
    "        accuracy_fun = theano.function([input_X, target_y], accuracy, allow_input_downcast=True)"
   ]
  },
  {
   "cell_type": "code",
   "execution_count": 42,
   "metadata": {
    "collapsed": false,
    "scrolled": false
   },
   "outputs": [
    {
     "name": "stdout",
     "output_type": "stream",
     "text": [
      "[W, beta, gamma, W, beta, gamma, W, beta, gamma, W, beta, gamma, W, beta, gamma, W, beta, gamma, W, beta, gamma, W, beta, gamma, W, beta, gamma, W, beta, gamma, W, beta, gamma, W, beta, gamma, W, beta, gamma, W, beta, gamma, W, beta, gamma, W, beta, gamma, W, beta, gamma, W, beta, gamma, W, beta, gamma, W, beta, gamma, W, beta, gamma, W, beta, gamma, W, beta, gamma, W, beta, gamma, W, beta, gamma, W, beta, gamma, W, beta, gamma, W, beta, gamma, W, beta, gamma, W, beta, gamma, W, beta, gamma, W, b]\n"
     ]
    }
   ],
   "source": [
    "print(all_weights)"
   ]
  },
  {
   "cell_type": "code",
   "execution_count": null,
   "metadata": {
    "collapsed": true
   },
   "outputs": [],
   "source": [
    "plt.plot([i for i in range(len(loss_history))], loss_history)"
   ]
  },
  {
   "cell_type": "code",
   "execution_count": 43,
   "metadata": {
    "collapsed": false
   },
   "outputs": [
    {
     "name": "stdout",
     "output_type": "stream",
     "text": [
      "Final results:\n",
      "  test accuracy:\t\t92.51 %\n",
      "Achievement unlocked: колдун 80 уровня\n"
     ]
    }
   ],
   "source": [
    "test_acc = 0\n",
    "test_batches = 0\n",
    "for batch in iterate_minibatches(X_test, y_test, 500):\n",
    "    inputs, targets = batch\n",
    "    acc = accuracy_fun(inputs, targets)\n",
    "    test_acc += acc\n",
    "    test_batches += 1\n",
    "print(\"Final results:\")\n",
    "print(\"  test accuracy:\\t\\t{:.2f} %\".format(\n",
    "    test_acc / test_batches * 100))\n",
    "\n",
    "if test_acc / test_batches * 100 > 92.5:\n",
    "    print(\"Achievement unlocked: колдун 80 уровня\")\n",
    "else:\n",
    "    print(\"Нужно больше магии!\")"
   ]
  },
  {
   "cell_type": "code",
   "execution_count": null,
   "metadata": {
    "collapsed": true
   },
   "outputs": [],
   "source": []
  }
 ],
 "metadata": {
  "kernelspec": {
   "display_name": "Python 3",
   "language": "python",
   "name": "python3"
  },
  "language_info": {
   "codemirror_mode": {
    "name": "ipython",
    "version": 3
   },
   "file_extension": ".py",
   "mimetype": "text/x-python",
   "name": "python",
   "nbconvert_exporter": "python",
   "pygments_lexer": "ipython3",
   "version": "3.5.3"
  }
 },
 "nbformat": 4,
 "nbformat_minor": 2
}
